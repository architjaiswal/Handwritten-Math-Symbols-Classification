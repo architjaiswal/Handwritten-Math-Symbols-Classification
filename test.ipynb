{
 "cells": [
  {
   "cell_type": "markdown",
   "id": "6e89fe36",
   "metadata": {},
   "source": [
    "# Test VGG16 model on handwritten images for classification"
   ]
  },
  {
   "cell_type": "markdown",
   "id": "1edc3400",
   "metadata": {},
   "source": [
    "NOTE: trained_VGG16_model.h5 should be in the same directory as this file\n",
    "Execution instructions:\n",
    "1. set the path or file in np.load for both image npy file and label\n",
    "2. test function is for the easy data set which will give out predicted labels and accuracy"
   ]
  },
  {
   "cell_type": "code",
   "execution_count": 29,
   "id": "ce611aac",
   "metadata": {},
   "outputs": [],
   "source": [
    "# Input parameters are the Image_data.npy dataset and labe_data.npy datset not the path of the file\n",
    "# This fucntion have to ouputs one is an array of predicted classes for each image and second is the accuracy of these predicted images\n",
    "\n",
    "def test(image_data , label):    \n",
    "    \n",
    "    import os\n",
    "    import cv2\n",
    "    import sklearn\n",
    "    import numpy as np\n",
    "    import tensorflow as tf\n",
    "    from keras.models import load_model\n",
    "    from keras.applications.vgg16 import preprocess_input\n",
    "    import matplotlib.pyplot as plt\n",
    "    from sklearn.metrics import accuracy_score\n",
    "    from tensorflow.python.client import device_lib\n",
    "    \n",
    "    img = [] # This holds the 3 channel images obtained from .npy file\n",
    "\n",
    "    new_dimensions = (200,200) # reducing the size of imput images to make things easier and faster\n",
    "\n",
    "    # Create image from .npy file data\n",
    "    # VGG16 only takes images in 3 channels, so I need to convert npy data to 300X300 and then duplicate the channels\n",
    "    for i in range(img_data.shape[1]):\n",
    "        temp_image = img_data[:,i].reshape((300,300))\n",
    "        temp_image = np.expand_dims(temp_image,-1)\n",
    "        temp_image_3_channel = temp_image.repeat(3,axis=-1)\n",
    "        resized_img = cv2.resize(src=temp_image_3_channel, dsize=new_dimensions, interpolation=cv2.INTER_LINEAR)\n",
    "        img.append(resized_img)\n",
    "\n",
    "    img = np.array(img)\n",
    "    img = preprocess_input(img) # Preprocessing is necessary for VGG16\n",
    "    img = img/255 # Normalizing images\n",
    "\n",
    "    model = load_model('./trained_VGG16_model.h5')\n",
    "\n",
    "    with tf.device('/gpu:0'): # this is assuming the system is connected to a GPU and \n",
    "\n",
    "        predicted_labels = model.predict(img)\n",
    "        \n",
    "    predicted_labels = np.argmax(predicted_labels, axis=1).astype(float)    \n",
    "\n",
    "    # Gives the accuracy of the images corresponding to there labels\n",
    "    accuracy = sklearn.metrics.accuracy_score(label, predicted_labels)\n",
    "    \n",
    "    predicted_labels = predicted_labels.astype(int)\n",
    "    \n",
    "    return predicted_labels, accuracy\n",
    "    \n",
    "    "
   ]
  },
  {
   "cell_type": "code",
   "execution_count": 30,
   "id": "981ba1ca",
   "metadata": {},
   "outputs": [],
   "source": [
    "import numpy as np\n",
    "img_npy = np.load('data_train_correct.npy')\n",
    "label = np.load('labels_train_corrected.npy')"
   ]
  },
  {
   "cell_type": "code",
   "execution_count": 31,
   "id": "d715f9ed",
   "metadata": {},
   "outputs": [],
   "source": [
    "img_data = img_npy[:,:500]\n",
    "label = label[:500]"
   ]
  },
  {
   "cell_type": "code",
   "execution_count": 32,
   "id": "a5772904",
   "metadata": {},
   "outputs": [],
   "source": [
    "predict_labels, accuracy = test(img_data, label)"
   ]
  },
  {
   "cell_type": "code",
   "execution_count": 36,
   "id": "9dff34cd",
   "metadata": {},
   "outputs": [
    {
     "data": {
      "text/plain": [
       "array([ 0,  4,  2,  6,  3,  0,  7,  0,  9,  8,  1,  2,  0,  1,  1,  8,  5,\n",
       "        1,  5,  6,  7,  5,  1,  5,  1,  8,  1,  5,  8,  1,  5,  3,  4,  4,\n",
       "        4,  2,  6,  8,  5,  0,  9,  1,  8,  9,  5,  1, 10,  8,  0,  3,  1,\n",
       "        8,  6,  1,  6,  5,  8,  0,  3,  2,  6, 10,  5,  8,  9,  2,  4,  0,\n",
       "        6,  8,  7,  7,  5,  1,  4,  4,  8,  1,  8,  3,  3,  8,  1,  9,  0,\n",
       "        7,  7,  8,  1,  1,  5,  0,  3,  9,  8,  9,  1,  6,  8,  4,  6,  2,\n",
       "        8,  9,  1,  5,  7,  3,  6,  6,  4,  1,  1,  3,  3,  9, 10,  3,  9,\n",
       "        4,  7,  0,  3,  3,  3,  8,  3,  9,  0,  7,  3,  3,  0,  6,  7,  5,\n",
       "        7,  3,  7,  2,  1,  4,  9,  8,  9,  3,  9,  4,  4,  7,  2,  8,  0,\n",
       "        4,  6,  5,  2,  5,  1,  4,  7, 10,  9,  8,  4,  4,  2,  0,  7,  4,\n",
       "        0,  9,  9,  9,  8,  9,  7,  1,  8,  9,  2,  3,  5,  8,  1,  0,  8,\n",
       "        7,  0,  7,  8,  2,  6,  6,  0,  9,  7,  2,  2,  3,  2,  0,  2,  8,\n",
       "        3,  3,  2,  8,  1,  3,  2,  3,  3,  6,  0,  6,  9,  1,  7,  1,  3,\n",
       "        1,  2,  1,  8,  8,  2,  6,  6,  5,  0,  3,  2,  8,  8,  6,  4,  5,\n",
       "        9,  3,  8,  2,  3,  1,  9,  6,  8,  6,  7,  1,  7,  4,  2,  8,  8,\n",
       "       10,  4,  0,  8,  0,  1,  5,  9,  5,  8,  3,  0,  1,  0,  5,  8,  5,\n",
       "        3,  4,  7,  5,  2,  6,  6,  6,  6,  7,  6,  9,  6,  8,  2,  3,  7,\n",
       "        8,  2,  8,  5,  5,  9,  2,  4,  1,  1,  2,  7,  4,  5,  4,  5,  1,\n",
       "        2,  8,  1,  4,  9,  1,  5,  6,  2,  9,  7,  6,  6,  1,  6,  1,  7,\n",
       "        2,  8,  8,  3,  7,  0,  5,  2,  8,  7,  4,  7,  1,  0,  1,  2,  5,\n",
       "        3,  8,  3,  6,  4,  3,  0,  8,  7,  5,  6,  4,  6,  3,  8,  4,  8,\n",
       "        8,  0,  9,  0,  8,  7,  2,  0,  8,  4,  4,  5,  6,  6,  9,  5,  9,\n",
       "        4,  5,  5,  6,  8,  2,  1,  5,  0,  4,  5,  1,  8,  5,  4,  0,  3,\n",
       "        4,  1,  0,  2,  3,  4,  6,  8,  1,  3,  2,  0,  9,  5,  2,  4,  8,\n",
       "        0,  6,  2,  9,  6,  3,  5,  1,  4,  9,  0,  3,  1,  6,  9,  8,  4,\n",
       "        4,  2,  8,  5,  1,  8,  2,  4,  4,  1,  1,  0,  8,  6,  3,  3,  1,\n",
       "        5,  8,  9,  3,  6,  3,  8,  2,  9,  7,  4,  1,  6,  0, 10,  8,  6,\n",
       "        3,  6,  8,  1,  5,  0,  7,  7,  1,  7, 10,  9,  3,  5,  2,  3,  5,\n",
       "        0,  8,  5,  4,  0,  7,  4,  5,  0, 10,  9,  0,  8,  2,  1,  9,  9,\n",
       "        8,  8,  1, 10,  9,  5,  3])"
      ]
     },
     "execution_count": 36,
     "metadata": {},
     "output_type": "execute_result"
    }
   ],
   "source": [
    "predict_labels"
   ]
  },
  {
   "cell_type": "code",
   "execution_count": 34,
   "id": "8f4061b1",
   "metadata": {},
   "outputs": [
    {
     "data": {
      "text/plain": [
       "0.994"
      ]
     },
     "execution_count": 34,
     "metadata": {},
     "output_type": "execute_result"
    }
   ],
   "source": [
    "accuracy"
   ]
  },
  {
   "cell_type": "code",
   "execution_count": null,
   "id": "6515ef40",
   "metadata": {},
   "outputs": [],
   "source": []
  }
 ],
 "metadata": {
  "kernelspec": {
   "display_name": "Python 3 (ipykernel)",
   "language": "python",
   "name": "python3"
  },
  "language_info": {
   "codemirror_mode": {
    "name": "ipython",
    "version": 3
   },
   "file_extension": ".py",
   "mimetype": "text/x-python",
   "name": "python",
   "nbconvert_exporter": "python",
   "pygments_lexer": "ipython3",
   "version": "3.9.15"
  }
 },
 "nbformat": 4,
 "nbformat_minor": 5
}
